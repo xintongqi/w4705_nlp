{
 "cells": [
  {
   "cell_type": "markdown",
   "id": "fe3e9083-984d-4a4d-baad-8cad8987c92a",
   "metadata": {},
   "source": [
    "## before submission\n",
    "- remove all TEST units\n",
    "- resolve all TODO's"
   ]
  },
  {
   "cell_type": "code",
   "execution_count": 1,
   "id": "350ed416-1ed2-4592-9570-d69bd7d72541",
   "metadata": {},
   "outputs": [
    {
     "data": {
      "text/plain": [
       "'\\nCOMS W4705 - Natural Language Processing - Fall 2023 \\nProgramming Homework 1 - Trigram Language Models\\nDaniel Bauer\\n'"
      ]
     },
     "execution_count": 1,
     "metadata": {},
     "output_type": "execute_result"
    }
   ],
   "source": [
    "import sys\n",
    "from collections import defaultdict\n",
    "from collections import Counter\n",
    "import math\n",
    "import random\n",
    "import os\n",
    "import os.path\n",
    "\"\"\"\n",
    "COMS W4705 - Natural Language Processing - Fall 2023 \n",
    "Programming Homework 1 - Trigram Language Models\n",
    "Daniel Bauer\n",
    "\"\"\""
   ]
  },
  {
   "cell_type": "code",
   "execution_count": 2,
   "id": "59ecdb8c-3ac6-4376-9723-7f494d8fe9d7",
   "metadata": {},
   "outputs": [],
   "source": [
    "# lazy evaluation, not storing but printing on the fly when needed\n",
    "# only prints once per generator\n",
    "# lexicon: python set; all tokens not in this set are replaced with \"UNK\"\n",
    "\n",
    "def corpus_reader(corpusfile, lexicon=None):\n",
    "    with open(corpusfile,'r') as corpus: \n",
    "        for line in corpus: \n",
    "            if line.strip():\n",
    "                sequence = line.lower().strip().split()\n",
    "                if lexicon: \n",
    "                    yield [word if word in lexicon else \"UNK\" for word in sequence]\n",
    "                else: \n",
    "                    yield sequence"
   ]
  },
  {
   "cell_type": "code",
   "execution_count": 3,
   "id": "911f5474-5cd8-4d79-b8e6-01323b48512b",
   "metadata": {},
   "outputs": [
    {
     "name": "stdout",
     "output_type": "stream",
     "text": [
      "<class 'list'>\n",
      "['the', 'blade', 'came', 'out', 'with', 'a', 'snick', '!']\n"
     ]
    }
   ],
   "source": [
    "# # TEST corpus reader\n",
    "\n",
    "# test_cr = corpus_reader(\"./hw1_data/brown_test.txt\")\n",
    "# for s in test_cr:\n",
    "#     print(type(s))\n",
    "#     print(s)\n",
    "#     break"
   ]
  },
  {
   "cell_type": "code",
   "execution_count": 4,
   "id": "829e141c-4a05-46a9-9d62-8fc5019080e2",
   "metadata": {},
   "outputs": [],
   "source": [
    "# extract a set of lexicon from a file\n",
    "\n",
    "def get_lexicon(corpus):\n",
    "    word_counts = defaultdict(int)\n",
    "    for sentence in corpus:\n",
    "        for word in sentence: \n",
    "            word_counts[word] += 1\n",
    "    return set(word for word in word_counts if word_counts[word] > 1)"
   ]
  },
  {
   "cell_type": "code",
   "execution_count": 5,
   "id": "e39ea441-c320-4d89-bd8f-923a72cc279b",
   "metadata": {},
   "outputs": [],
   "source": [
    "def get_ngrams(sequence, n):\n",
    "    \"\"\"\n",
    "    COMPLETE THIS FUNCTION (PART 1)\n",
    "    Given a sequence, this function should return a list of n-grams, where each n-gram is a Python tuple.\n",
    "    This should work for arbitrary values of n >= 1 \n",
    "    \"\"\"\n",
    "    s = list(sequence) # must make a deep copy\n",
    "    # add START and STOP token to sequence\n",
    "    if (n == 1):\n",
    "        s.insert(0, \"START\")\n",
    "    else:\n",
    "        for i in range(n-1):\n",
    "            s.insert(0,\"START\")\n",
    "    s.append(\"STOP\")\n",
    "\n",
    "    # produce ngrams\n",
    "    ngrams = []\n",
    "    for i in range(len(s)-n+1):\n",
    "        ngram = []\n",
    "        for j in range(n):\n",
    "            ngram.append(s[i+j])\n",
    "        ngrams.append(tuple(ngram))\n",
    "    return ngrams"
   ]
  },
  {
   "cell_type": "code",
   "execution_count": 6,
   "id": "6f60687a-baec-48d2-9baf-f3ca8091cdb1",
   "metadata": {},
   "outputs": [
    {
     "data": {
      "text/plain": [
       "[('START', 'START', 'the'),\n",
       " ('START', 'the', 'blade'),\n",
       " ('the', 'blade', 'came'),\n",
       " ('blade', 'came', 'out'),\n",
       " ('came', 'out', 'with'),\n",
       " ('out', 'with', 'a'),\n",
       " ('with', 'a', 'snick'),\n",
       " ('a', 'snick', '!'),\n",
       " ('snick', '!', 'STOP')]"
      ]
     },
     "execution_count": 6,
     "metadata": {},
     "output_type": "execute_result"
    }
   ],
   "source": [
    "# # TEST part1 get_ngrams\n",
    "\n",
    "# s = ['the', 'blade', 'came', 'out', 'with', 'a', 'snick', '!']\n",
    "# # s = ['natural', 'language', 'processing']\n",
    "# # get_ngrams(s, 1)\n",
    "# # get_ngrams(s, 2)\n",
    "# get_ngrams(s, 3)"
   ]
  },
  {
   "cell_type": "code",
   "execution_count": 62,
   "id": "fc64d8be-d15e-499f-b2c8-19e545e2b27e",
   "metadata": {},
   "outputs": [],
   "source": [
    "class TrigramModel(object):\n",
    "    total_word_count = 0\n",
    "    total_sentence_count = 0\n",
    "    \n",
    "    def __init__(self, corpusfile):\n",
    "    \n",
    "        # Iterate through the corpus once to build a lexicon \n",
    "        generator = corpus_reader(corpusfile)\n",
    "        self.lexicon = get_lexicon(generator)\n",
    "        self.lexicon.add(\"UNK\")\n",
    "        self.lexicon.add(\"START\")\n",
    "        self.lexicon.add(\"STOP\")\n",
    "\n",
    "        # Now iterate through the corpus again and count ngrams\n",
    "        generator = corpus_reader(corpusfile, self.lexicon)\n",
    "        self.count_ngrams(generator)\n",
    "\n",
    "    def count_ngrams(self, corpus):\n",
    "        \"\"\"\n",
    "        COMPLETE THIS METHOD (PART 2)\n",
    "        Given a corpus iterator, populate dictionaries of unigram, bigram,\n",
    "        and trigram counts. \n",
    "        \"\"\"   \n",
    "        self.unigramcounts = Counter() # might want to use defaultdict or Counter instead\n",
    "        self.bigramcounts = Counter()\n",
    "        self.trigramcounts = Counter()\n",
    "\n",
    "        for s in corpus:\n",
    "            unigrams = get_ngrams(s, 1)\n",
    "            bigrams = get_ngrams(s, 2)\n",
    "            trigrams = get_ngrams(s, 3)\n",
    "            for u in unigrams:\n",
    "                # if(u[0] == \"START\"):\n",
    "                #     continue\n",
    "                self.unigramcounts[u] += 1\n",
    "            for b in bigrams:\n",
    "                self.bigramcounts[b] += 1\n",
    "            for t in trigrams:\n",
    "                self.trigramcounts[t] += 1\n",
    "            self.total_sentence_count += 1\n",
    "            self.total_word_count += (len(s)+1) # TODO: should I count \"STOP\" in total_word_count?\n",
    "        \n",
    "        return\n",
    "\n",
    "    def raw_bigram_probability(self, bigram):\n",
    "        \"\"\"\n",
    "        COMPLETE THIS METHOD (PART 3)\n",
    "        Returns the raw (unsmoothed) bigram probability\n",
    "        \"\"\"\n",
    "        bigram_den_count = self.unigramcounts[(bigram[0],)]\n",
    "        if (bigram_den_count == 0):\n",
    "            return 1/len(self.lexicon)\n",
    "        bigram_num_count = self.bigramcounts[bigram]\n",
    "        return bigram_num_count/bigram_den_count\n",
    "\n",
    "    def raw_trigram_probability(self,trigram):\n",
    "        \"\"\"\n",
    "        COMPLETE THIS METHOD (PART 3)\n",
    "        Returns the raw (unsmoothed) trigram probability\n",
    "        \"\"\"\n",
    "        trigram_den_count = self.bigramcounts[trigram[0:2]]\n",
    "        if(trigram[0] == \"START\" and trigram[1] == \"START\"):\n",
    "            return self.raw_bigram_probability(trigram[1:2])\n",
    "        if(trigram_den_count == 0):\n",
    "            return 1/len(self.lexicon)\n",
    "        trigram_num_count = self.trigramcounts[trigram]\n",
    "        return trigram_num_count/trigram_den_count\n",
    "    \n",
    "    def raw_unigram_probability(self, unigram):\n",
    "        \"\"\"\n",
    "        COMPLETE THIS METHOD (PART 3)\n",
    "        Returns the raw (unsmoothed) unigram probability.\n",
    "        \"\"\"\n",
    "        return self.unigramcounts[unigram]/self.total_word_count\n",
    "\n",
    "    def generate_sentence(self,t=20): \n",
    "        \"\"\"\n",
    "        COMPLETE THIS METHOD (OPTIONAL)\n",
    "        Generate a random sentence from the trigram model. t specifies the\n",
    "        max length, but the sentence may be shorter if STOP is reached.\n",
    "        \"\"\"\n",
    "        return result            \n",
    "\n",
    "    def smoothed_trigram_probability(self, trigram):\n",
    "        \"\"\"\n",
    "        COMPLETE THIS METHOD (PART 4)\n",
    "        Returns the smoothed trigram probability (using linear interpolation). \n",
    "        \"\"\"\n",
    "        lambda1 = 1/3.0\n",
    "        lambda2 = 1/3.0\n",
    "        lambda3 = 1/3.0\n",
    "\n",
    "        # print(trigram, trigram[0:3:2], (trigram[0],))\n",
    "        \n",
    "        term1 = self.raw_trigram_probability(trigram)*lambda1\n",
    "        term2 = self.raw_bigram_probability(trigram[1:3])*lambda2\n",
    "        term3 = self.raw_unigram_probability((trigram[2],))*lambda3\n",
    "\n",
    "        # print(term1, term2, term3)\n",
    "        \n",
    "        return term1 + term2 + term3\n",
    "        \n",
    "    def sentence_logprob(self, sentence):\n",
    "        \"\"\"\n",
    "        COMPLETE THIS METHOD (PART 5)\n",
    "        Returns the log probability of an entire sequence.\n",
    "        \"\"\"\n",
    "        logprob = 0.0\n",
    "        trigrams = get_ngrams(sentence, 3)\n",
    "        for t in trigrams:\n",
    "            prob = self.smoothed_trigram_probability(t)\n",
    "            logprob += math.log2(prob)\n",
    "        \n",
    "        return logprob\n",
    "\n",
    "    def perplexity(self, corpus):\n",
    "        \"\"\"\n",
    "        COMPLETE THIS METHOD (PART 6) \n",
    "        Returns the log probability of an entire sequence.\n",
    "        \"\"\"\n",
    "        s_logprob = 0.0\n",
    "        lexicon_count = 0\n",
    "        for s in corpus:\n",
    "            s_logprob += self.sentence_logprob(s)\n",
    "            lexicon_count += (len(s)+1)\n",
    "        l =  s_logprob/lexicon_count\n",
    "        \n",
    "        return 2**(l*(-1))"
   ]
  },
  {
   "cell_type": "code",
   "execution_count": 54,
   "id": "4307be42-7042-4eff-91ea-fa0d1e7023ed",
   "metadata": {},
   "outputs": [
    {
     "name": "stdout",
     "output_type": "stream",
     "text": [
      "223.09550775726743\n"
     ]
    }
   ],
   "source": [
    "# # TEST part 6 perplexity on test data\n",
    "# model = TrigramModel(\"./hw1_data/brown_train.txt\")\n",
    "# generator = corpus_reader(\"./hw1_data/brown_test.txt\", model.lexicon)\n",
    "# print(model.perplexity(generator))"
   ]
  },
  {
   "cell_type": "code",
   "execution_count": 34,
   "id": "e9254b7f-70f3-44eb-bf88-24063de59c82",
   "metadata": {},
   "outputs": [
    {
     "name": "stdout",
     "output_type": "stream",
     "text": [
      "5478\n",
      "5478\n",
      "61428\n"
     ]
    }
   ],
   "source": [
    "# # TEST part2 count_ngrams\n",
    "# model = TrigramModel(\"./hw1_data/brown_train.txt\")\n",
    "\n",
    "# print(model.trigramcounts[('START','START','the')])\n",
    "# print(model.bigramcounts[('START','the')])\n",
    "# print(model.unigramcounts[('the',)])"
   ]
  },
  {
   "cell_type": "code",
   "execution_count": 55,
   "id": "cceacd4d-e797-4ff4-86c4-5ec0953dd3ae",
   "metadata": {},
   "outputs": [
    {
     "name": "stdout",
     "output_type": "stream",
     "text": [
      "16.438357509784264\n"
     ]
    }
   ],
   "source": [
    "# # TEST part 6 perplexity on training data\n",
    "# model = TrigramModel(\"./hw1_data/brown_train.txt\")\n",
    "# generator = corpus_reader(\"./hw1_data/brown_train.txt\", model.lexicon)\n",
    "# print(model.perplexity(generator))"
   ]
  },
  {
   "cell_type": "code",
   "execution_count": 20,
   "id": "1ce94de8-448a-4574-b017-8191dfc5f20f",
   "metadata": {},
   "outputs": [],
   "source": [
    "# # TEST check raw probabilities\n",
    "# model = TrigramModel(\"./hw1_data/brown_train.txt\")\n",
    "# total_unigram_prob = 0.0\n",
    "\n",
    "# for i in model.unigramcounts:\n",
    "#     total_unigram_prob += model.raw_unigram_probability(i)\n",
    "\n",
    "# total_unigram_prob"
   ]
  },
  {
   "cell_type": "code",
   "execution_count": 56,
   "id": "2679c97b-bc58-4737-bf5f-08d717d9fd67",
   "metadata": {},
   "outputs": [
    {
     "name": "stdout",
     "output_type": "stream",
     "text": [
      "0.0\n",
      "0.13163839092613064\n",
      "0.058920067333931216\n"
     ]
    }
   ],
   "source": [
    "# # TEST part3 probabailities\n",
    "# model = TrigramModel(\"./hw1_data/brown_train.txt\")\n",
    "\n",
    "# print(model.raw_trigram_probability(('START','START','the')))\n",
    "# print(model.raw_bigram_probability(('START','the')))\n",
    "# print(model.raw_unigram_probability(('the',)))"
   ]
  },
  {
   "cell_type": "code",
   "execution_count": 57,
   "id": "946bc4bf-1423-4a7e-8043-339e3422593d",
   "metadata": {},
   "outputs": [
    {
     "name": "stdout",
     "output_type": "stream",
     "text": [
      "0.06351948608668728\n"
     ]
    }
   ],
   "source": [
    "# # TEST part4 smoothed_trigram_probability\n",
    "\n",
    "# print(model.smoothed_trigram_probability(('START','START','the')))"
   ]
  },
  {
   "cell_type": "code",
   "execution_count": 59,
   "id": "a6cd25c5-2c34-4fce-93e3-de0d9bef0c4e",
   "metadata": {},
   "outputs": [],
   "source": [
    "# # TEST part5 sentence log probability\n",
    "# model = TrigramModel(\"./hw1_data/brown_train.txt\")\n",
    "\n",
    "# # print(model.s)\n",
    "# # model.sentence_logprob(model.s)"
   ]
  },
  {
   "cell_type": "code",
   "execution_count": 65,
   "id": "6ce70180-c2cd-43eb-9c83-694011d60d78",
   "metadata": {},
   "outputs": [],
   "source": [
    "def essay_scoring_experiment(training_file1, training_file2, testdir1, testdir2):\n",
    "\n",
    "        model1 = TrigramModel(training_file1) # high\n",
    "        model2 = TrigramModel(training_file2) # low\n",
    "\n",
    "        total = 0\n",
    "        correct = 0\n",
    " \n",
    "        for f in os.listdir(testdir1): # high\n",
    "            pp1 = model1.perplexity(corpus_reader(os.path.join(testdir1, f), model1.lexicon))\n",
    "            pp2 = model2.perplexity(corpus_reader(os.path.join(testdir1, f), model2.lexicon))\n",
    "            if (pp1 < pp2):\n",
    "                correct += 1\n",
    "            total += 1\n",
    "            \n",
    "    \n",
    "        for f in os.listdir(testdir2): # low\n",
    "            pp2 = model2.perplexity(corpus_reader(os.path.join(testdir2, f), model2.lexicon))\n",
    "            pp1 = model1.perplexity(corpus_reader(os.path.join(testdir2, f), model1.lexicon))\n",
    "            if (pp1 > pp2):\n",
    "                correct += 1\n",
    "            total += 1\n",
    "        \n",
    "        return correct/total"
   ]
  },
  {
   "cell_type": "code",
   "execution_count": 66,
   "id": "508a7cb3-cfbd-4d47-9da9-e7ccdecf0fbc",
   "metadata": {},
   "outputs": [
    {
     "data": {
      "text/plain": [
       "0.8466135458167331"
      ]
     },
     "execution_count": 66,
     "metadata": {},
     "output_type": "execute_result"
    }
   ],
   "source": [
    "# # TEST part7 essay scoring\n",
    "\n",
    "# train_high = \"./hw1_data/ets_toefl_data/train_high.txt\"\n",
    "# train_low = \"./hw1_data/ets_toefl_data/train_low.txt\"\n",
    "# dir_high = \"./hw1_data/ets_toefl_data/test_high\"\n",
    "# dir_low = \"./hw1_data/ets_toefl_data/test_low\"\n",
    "\n",
    "# essay_scoring_experiment(train_high, train_low, dir_high, dir_low)"
   ]
  },
  {
   "cell_type": "code",
   "execution_count": 68,
   "id": "5b0711e2-9586-4e1c-b514-b21ed8590d83",
   "metadata": {},
   "outputs": [
    {
     "ename": "FileNotFoundError",
     "evalue": "[Errno 2] No such file or directory: '-f'",
     "output_type": "error",
     "traceback": [
      "\u001b[0;31m---------------------------------------------------------------------------\u001b[0m",
      "\u001b[0;31mFileNotFoundError\u001b[0m                         Traceback (most recent call last)",
      "Cell \u001b[0;32mIn[68], line 3\u001b[0m\n\u001b[1;32m      1\u001b[0m \u001b[38;5;28;01mif\u001b[39;00m \u001b[38;5;18m__name__\u001b[39m \u001b[38;5;241m==\u001b[39m \u001b[38;5;124m\"\u001b[39m\u001b[38;5;124m__main__\u001b[39m\u001b[38;5;124m\"\u001b[39m:\n\u001b[0;32m----> 3\u001b[0m     model \u001b[38;5;241m=\u001b[39m \u001b[43mTrigramModel\u001b[49m\u001b[43m(\u001b[49m\u001b[43msys\u001b[49m\u001b[38;5;241;43m.\u001b[39;49m\u001b[43margv\u001b[49m\u001b[43m[\u001b[49m\u001b[38;5;241;43m1\u001b[39;49m\u001b[43m]\u001b[49m\u001b[43m)\u001b[49m \n\u001b[1;32m      5\u001b[0m     \u001b[38;5;66;03m# put test code here...\u001b[39;00m\n\u001b[1;32m      6\u001b[0m     \u001b[38;5;66;03m# or run the script from the command line with \u001b[39;00m\n\u001b[1;32m      7\u001b[0m     \u001b[38;5;66;03m# $ python -i trigram_model.py [corpus_file]\u001b[39;00m\n\u001b[0;32m   (...)\u001b[0m\n\u001b[1;32m     13\u001b[0m     \n\u001b[1;32m     14\u001b[0m     \u001b[38;5;66;03m# Testing perplexity: \u001b[39;00m\n\u001b[1;32m     15\u001b[0m     dev_corpus \u001b[38;5;241m=\u001b[39m corpus_reader(sys\u001b[38;5;241m.\u001b[39margv[\u001b[38;5;241m2\u001b[39m], model\u001b[38;5;241m.\u001b[39mlexicon)\n",
      "Cell \u001b[0;32mIn[62], line 9\u001b[0m, in \u001b[0;36mTrigramModel.__init__\u001b[0;34m(self, corpusfile)\u001b[0m\n\u001b[1;32m      5\u001b[0m \u001b[38;5;28;01mdef\u001b[39;00m \u001b[38;5;21m__init__\u001b[39m(\u001b[38;5;28mself\u001b[39m, corpusfile):\n\u001b[1;32m      6\u001b[0m \n\u001b[1;32m      7\u001b[0m     \u001b[38;5;66;03m# Iterate through the corpus once to build a lexicon \u001b[39;00m\n\u001b[1;32m      8\u001b[0m     generator \u001b[38;5;241m=\u001b[39m corpus_reader(corpusfile)\n\u001b[0;32m----> 9\u001b[0m     \u001b[38;5;28mself\u001b[39m\u001b[38;5;241m.\u001b[39mlexicon \u001b[38;5;241m=\u001b[39m \u001b[43mget_lexicon\u001b[49m\u001b[43m(\u001b[49m\u001b[43mgenerator\u001b[49m\u001b[43m)\u001b[49m\n\u001b[1;32m     10\u001b[0m     \u001b[38;5;28mself\u001b[39m\u001b[38;5;241m.\u001b[39mlexicon\u001b[38;5;241m.\u001b[39madd(\u001b[38;5;124m\"\u001b[39m\u001b[38;5;124mUNK\u001b[39m\u001b[38;5;124m\"\u001b[39m)\n\u001b[1;32m     11\u001b[0m     \u001b[38;5;28mself\u001b[39m\u001b[38;5;241m.\u001b[39mlexicon\u001b[38;5;241m.\u001b[39madd(\u001b[38;5;124m\"\u001b[39m\u001b[38;5;124mSTART\u001b[39m\u001b[38;5;124m\"\u001b[39m)\n",
      "Cell \u001b[0;32mIn[4], line 5\u001b[0m, in \u001b[0;36mget_lexicon\u001b[0;34m(corpus)\u001b[0m\n\u001b[1;32m      3\u001b[0m \u001b[38;5;28;01mdef\u001b[39;00m \u001b[38;5;21mget_lexicon\u001b[39m(corpus):\n\u001b[1;32m      4\u001b[0m     word_counts \u001b[38;5;241m=\u001b[39m defaultdict(\u001b[38;5;28mint\u001b[39m)\n\u001b[0;32m----> 5\u001b[0m     \u001b[38;5;28;01mfor\u001b[39;00m sentence \u001b[38;5;129;01min\u001b[39;00m corpus:\n\u001b[1;32m      6\u001b[0m         \u001b[38;5;28;01mfor\u001b[39;00m word \u001b[38;5;129;01min\u001b[39;00m sentence: \n\u001b[1;32m      7\u001b[0m             word_counts[word] \u001b[38;5;241m+\u001b[39m\u001b[38;5;241m=\u001b[39m \u001b[38;5;241m1\u001b[39m\n",
      "Cell \u001b[0;32mIn[2], line 6\u001b[0m, in \u001b[0;36mcorpus_reader\u001b[0;34m(corpusfile, lexicon)\u001b[0m\n\u001b[1;32m      5\u001b[0m \u001b[38;5;28;01mdef\u001b[39;00m \u001b[38;5;21mcorpus_reader\u001b[39m(corpusfile, lexicon\u001b[38;5;241m=\u001b[39m\u001b[38;5;28;01mNone\u001b[39;00m):\n\u001b[0;32m----> 6\u001b[0m     \u001b[38;5;28;01mwith\u001b[39;00m \u001b[38;5;28;43mopen\u001b[39;49m\u001b[43m(\u001b[49m\u001b[43mcorpusfile\u001b[49m\u001b[43m,\u001b[49m\u001b[38;5;124;43m'\u001b[39;49m\u001b[38;5;124;43mr\u001b[39;49m\u001b[38;5;124;43m'\u001b[39;49m\u001b[43m)\u001b[49m \u001b[38;5;28;01mas\u001b[39;00m corpus: \n\u001b[1;32m      7\u001b[0m         \u001b[38;5;28;01mfor\u001b[39;00m line \u001b[38;5;129;01min\u001b[39;00m corpus: \n\u001b[1;32m      8\u001b[0m             \u001b[38;5;28;01mif\u001b[39;00m line\u001b[38;5;241m.\u001b[39mstrip():\n",
      "File \u001b[0;32m/usr/local/lib/python3.11/site-packages/IPython/core/interactiveshell.py:286\u001b[0m, in \u001b[0;36m_modified_open\u001b[0;34m(file, *args, **kwargs)\u001b[0m\n\u001b[1;32m    279\u001b[0m \u001b[38;5;28;01mif\u001b[39;00m file \u001b[38;5;129;01min\u001b[39;00m {\u001b[38;5;241m0\u001b[39m, \u001b[38;5;241m1\u001b[39m, \u001b[38;5;241m2\u001b[39m}:\n\u001b[1;32m    280\u001b[0m     \u001b[38;5;28;01mraise\u001b[39;00m \u001b[38;5;167;01mValueError\u001b[39;00m(\n\u001b[1;32m    281\u001b[0m         \u001b[38;5;124mf\u001b[39m\u001b[38;5;124m\"\u001b[39m\u001b[38;5;124mIPython won\u001b[39m\u001b[38;5;124m'\u001b[39m\u001b[38;5;124mt let you open fd=\u001b[39m\u001b[38;5;132;01m{\u001b[39;00mfile\u001b[38;5;132;01m}\u001b[39;00m\u001b[38;5;124m by default \u001b[39m\u001b[38;5;124m\"\u001b[39m\n\u001b[1;32m    282\u001b[0m         \u001b[38;5;124m\"\u001b[39m\u001b[38;5;124mas it is likely to crash IPython. If you know what you are doing, \u001b[39m\u001b[38;5;124m\"\u001b[39m\n\u001b[1;32m    283\u001b[0m         \u001b[38;5;124m\"\u001b[39m\u001b[38;5;124myou can use builtins\u001b[39m\u001b[38;5;124m'\u001b[39m\u001b[38;5;124m open.\u001b[39m\u001b[38;5;124m\"\u001b[39m\n\u001b[1;32m    284\u001b[0m     )\n\u001b[0;32m--> 286\u001b[0m \u001b[38;5;28;01mreturn\u001b[39;00m \u001b[43mio_open\u001b[49m\u001b[43m(\u001b[49m\u001b[43mfile\u001b[49m\u001b[43m,\u001b[49m\u001b[43m \u001b[49m\u001b[38;5;241;43m*\u001b[39;49m\u001b[43margs\u001b[49m\u001b[43m,\u001b[49m\u001b[43m \u001b[49m\u001b[38;5;241;43m*\u001b[39;49m\u001b[38;5;241;43m*\u001b[39;49m\u001b[43mkwargs\u001b[49m\u001b[43m)\u001b[49m\n",
      "\u001b[0;31mFileNotFoundError\u001b[0m: [Errno 2] No such file or directory: '-f'"
     ]
    }
   ],
   "source": [
    "# if __name__ == \"__main__\":\n",
    "\n",
    "#     model = TrigramModel(sys.argv[1]) \n",
    "\n",
    "#     # put test code here...\n",
    "#     # or run the script from the command line with \n",
    "#     # $ python -i trigram_model.py [corpus_file]\n",
    "#     # >>> \n",
    "#     #\n",
    "#     # you can then call methods on the model instance in the interactive \n",
    "#     # Python prompt. \n",
    "\n",
    "    \n",
    "#     # Testing perplexity: \n",
    "#     dev_corpus = corpus_reader(sys.argv[2], model.lexicon)\n",
    "#     pp = model.perplexity(dev_corpus)\n",
    "#     print(pp)\n",
    "\n",
    "\n",
    "#     # Essay scoring experiment: \n",
    "#     acc = essay_scoring_experiment('train_high.txt', \"train_low.txt\", \"test_high\", \"test_low\")\n",
    "#     print(acc)"
   ]
  }
 ],
 "metadata": {
  "kernelspec": {
   "display_name": "Python 3 (ipykernel)",
   "language": "python",
   "name": "python3"
  },
  "language_info": {
   "codemirror_mode": {
    "name": "ipython",
    "version": 3
   },
   "file_extension": ".py",
   "mimetype": "text/x-python",
   "name": "python",
   "nbconvert_exporter": "python",
   "pygments_lexer": "ipython3",
   "version": "3.11.5"
  }
 },
 "nbformat": 4,
 "nbformat_minor": 5
}
